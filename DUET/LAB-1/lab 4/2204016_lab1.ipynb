{
 "cells": [
  {
   "cell_type": "code",
   "execution_count": 1,
   "metadata": {},
   "outputs": [
    {
     "name": "stdout",
     "output_type": "stream",
     "text": [
      "20 20.22 502.5555555555 4964596548964563945 Pervez hasan a\n",
      "\n"
     ]
    }
   ],
   "source": [
    "#data type all\n",
    "a=20\n",
    "b=20.22\n",
    "c=502.5555555555\n",
    "d=4964596548964563945\n",
    "e=\"Pervez hasan\"\n",
    "f='a'\n",
    "print(a,b,c,d,e,f)\n",
    "\n",
    "x=input()\n",
    "print(x)\n"
   ]
  },
  {
   "cell_type": "code",
   "execution_count": 2,
   "metadata": {},
   "outputs": [
    {
     "name": "stdout",
     "output_type": "stream",
     "text": [
      "elif condition is true\n",
      "\n",
      "\n",
      "x is even\n"
     ]
    },
    {
     "data": {
      "text/plain": [
       "False"
      ]
     },
     "execution_count": 2,
     "metadata": {},
     "output_type": "execute_result"
    }
   ],
   "source": [
    "#Conditional statement\n",
    "x=26/5 #that answer is 4.166666666666667\n",
    "x=25//5 #that nswer is only 4\n",
    "\n",
    "\n",
    "x=10\n",
    "if x!=10:\n",
    "    print(\"if condition is true\")\n",
    "elif x==10:\n",
    "   print(\"elif condition is true\")\n",
    "else:\n",
    "    print(\"else condition is trure\")\n",
    "\n",
    "print(\"\\n\")\n",
    "#ternary operator \n",
    "# (value execute when if true) if(true) else (value is not execute when else condition true)\n",
    "x = 8\n",
    "print(\"x is even\") if x % 2 == 0 else print(\"x is odd\")\n",
    "\n",
    "\n",
    "##### class\n",
    "i=5\n",
    "i>6\n"
   ]
  },
  {
   "cell_type": "code",
   "execution_count": 3,
   "metadata": {},
   "outputs": [
    {
     "name": "stdout",
     "output_type": "stream",
     "text": [
      "{'name': 'John', 'age': 36}\n",
      "frozenset({'apple', 'banana', 'cherry'})\n",
      "b'hello'\n",
      "<memory at 0x718c7bf08a00>\n",
      "bytearray(b'\\x00\\x00\\x00\\x00\\x00')\n"
     ]
    }
   ],
   "source": [
    "\n",
    "# complex type\n",
    "# x=146946645364j\n",
    "\n",
    "#range type\n",
    "# x=range(6)\n",
    "# print(x)\n",
    "\n",
    "#map type\n",
    "x = {\"name\" : \"John\", \"age\" : 36}\n",
    "print(x)\n",
    "\n",
    "#frozenset\n",
    "x = frozenset({\"apple\", \"banana\", \"cherry\"})\n",
    "print(x)\n",
    "\n",
    "#bytetype\n",
    "x=b\"hello\"\n",
    "print(x)\n",
    "\n",
    "#memoryview\n",
    "x = memoryview(bytes(5))\n",
    "print(x)\n",
    "\n",
    "#bytearray\n",
    "x = bytearray(5)\n",
    "print(x)\n"
   ]
  }
 ],
 "metadata": {
  "kernelspec": {
   "display_name": "Python 3",
   "language": "python",
   "name": "python3"
  },
  "language_info": {
   "codemirror_mode": {
    "name": "ipython",
    "version": 3
   },
   "file_extension": ".py",
   "mimetype": "text/x-python",
   "name": "python",
   "nbconvert_exporter": "python",
   "pygments_lexer": "ipython3",
   "version": "3.10.12"
  }
 },
 "nbformat": 4,
 "nbformat_minor": 2
}
