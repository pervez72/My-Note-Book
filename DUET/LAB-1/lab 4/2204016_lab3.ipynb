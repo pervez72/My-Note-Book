{
 "cells": [
  {
   "cell_type": "markdown",
   "metadata": {},
   "source": [
    "ALL CONDITION"
   ]
  },
  {
   "cell_type": "markdown",
   "metadata": {},
   "source": [
    "All Operator :\n",
    "\n",
    "<ul>\n",
    "    <li>equal: <b>==</b></li>\n",
    "    <li>not equal: <b>!=</b></li>\n",
    "    <li>greater than: <b>></b></li>\n",
    "    <li>less than: <b>&lt;</b></li>\n",
    "    <li>greater than or equal to: <b>>=</b></li>\n",
    "    <li>less than or equal to: <b>&lt;=</b></li>\n",
    "</ul>\n"
   ]
  },
  {
   "cell_type": "code",
   "execution_count": 6,
   "metadata": {},
   "outputs": [
    {
     "name": "stdout",
     "output_type": "stream",
     "text": [
      "a and b is equal\n"
     ]
    }
   ],
   "source": [
    "#equal\n",
    "a=10\n",
    "b=10\n",
    "if a==b:\n",
    "    print(\"a and b is equal\")\n"
   ]
  },
  {
   "cell_type": "code",
   "execution_count": 7,
   "metadata": {},
   "outputs": [
    {
     "name": "stdout",
     "output_type": "stream",
     "text": [
      "a and b is not  equal\n"
     ]
    }
   ],
   "source": [
    "#not equal\n",
    "a=10\n",
    "b=20\n",
    "if a!=b:\n",
    "    print(\"a and b is not  equal\")"
   ]
  },
  {
   "cell_type": "code",
   "execution_count": 9,
   "metadata": {},
   "outputs": [
    {
     "name": "stdout",
     "output_type": "stream",
     "text": [
      "b is learge\n"
     ]
    }
   ],
   "source": [
    "if b>a:\n",
    "    print(\"b is learge\")"
   ]
  },
  {
   "cell_type": "code",
   "execution_count": 10,
   "metadata": {},
   "outputs": [
    {
     "name": "stdout",
     "output_type": "stream",
     "text": [
      "elif condition is true\n"
     ]
    }
   ],
   "source": [
    "x=10\n",
    "if x!=10:\n",
    "    print(\"if condition is true\")\n",
    "elif x==10:\n",
    "   print(\"elif condition is true\")\n",
    "else:\n",
    "    print(\"else condition is trure\")"
   ]
  },
  {
   "cell_type": "markdown",
   "metadata": {},
   "source": [
    "ALL LOOP"
   ]
  },
  {
   "cell_type": "code",
   "execution_count": 11,
   "metadata": {},
   "outputs": [
    {
     "name": "stdout",
     "output_type": "stream",
     "text": [
      "0\n",
      "1\n",
      "2\n",
      "3\n",
      "4\n",
      "\n",
      "\n",
      "0\n",
      "2\n",
      "4\n",
      "6\n",
      "8\n",
      "0 1 2 3 4 \n",
      "\n",
      "10\n",
      "8\n",
      "6\n",
      "4\n",
      "2\n",
      "Nested loop\n",
      "\n",
      "\n",
      "* \n",
      "\n",
      "* * \n",
      "\n",
      "* * * \n",
      "\n",
      "* * * * \n",
      "\n",
      "0\n",
      "1\n",
      "2\n",
      "\n",
      "\n",
      "0\n",
      "1\n",
      "2\n",
      "4\n"
     ]
    }
   ],
   "source": [
    "# Brancing statemet \n",
    "\n",
    "# For loop example\n",
    "# use iteration  \n",
    "for i in range(5): #all setting defult 0 to 4\n",
    "    print(i)\n",
    "\n",
    "# user control\n",
    "print(\"\\n\")\n",
    "for i in range(0,10,2): #(start,stop,step)\n",
    "    print(i)\n",
    "\n",
    "#do not new line print \n",
    "for i in range(5): # length 0 to 4\n",
    "    print(i,end=' ')\n",
    "\n",
    "#while loop\n",
    "print(\"\\n\")\n",
    "x=10\n",
    "while x!=0:\n",
    "    print(x)\n",
    "    x-=2 #increment and decrement\n",
    "\n",
    "#nested loop\n",
    "print(\"Nested loop\")\n",
    "for row in range(0,5,1):\n",
    "    for col in range(0,row,1):\n",
    "        print(\"*\",end=' ')\n",
    "    print(\"\\n\")\n",
    "\n",
    "#Break and contine \n",
    "#break \n",
    "for i in range(5):\n",
    "    if(i==3):\n",
    "        break\n",
    "    print(i)\n",
    "\n",
    "#continue \n",
    "print(\"\\n\")\n",
    "for i in range(5):\n",
    "    if(i==3):\n",
    "        continue\n",
    "    print(i)\n",
    "\n"
   ]
  },
  {
   "cell_type": "markdown",
   "metadata": {},
   "source": [
    "FUNCTION"
   ]
  },
  {
   "cell_type": "code",
   "execution_count": 13,
   "metadata": {},
   "outputs": [
    {
     "name": "stdout",
     "output_type": "stream",
     "text": [
      "The value is= 10\n"
     ]
    }
   ],
   "source": [
    "#def is hold all data type\n",
    "def mathdis(a):\n",
    "    print(\"The value is=\",a)\n",
    "\n",
    "x=input(\"please insert input:\")\n",
    "mathdis(x)\n"
   ]
  },
  {
   "cell_type": "code",
   "execution_count": 16,
   "metadata": {},
   "outputs": [
    {
     "data": {
      "text/plain": [
       "['k', 'p', 'Pervez', 'Hasan']"
      ]
     },
     "execution_count": 16,
     "metadata": {},
     "output_type": "execute_result"
    }
   ],
   "source": [
    "def mylist(list):\n",
    "    list.append(\"Pervez\")\n",
    "    list.append(\"Hasan\")\n",
    "\n",
    "my_list=[\"k\",\"p\"]\n",
    "mylist(my_list)\n",
    "\n",
    "my_list"
   ]
  },
  {
   "cell_type": "code",
   "execution_count": 17,
   "metadata": {},
   "outputs": [
    {
     "name": "stdout",
     "output_type": "stream",
     "text": [
      "Country : Bangladesh\n",
      "Province : Pakistan\n",
      "City : Afgan\n"
     ]
    }
   ],
   "source": [
    "def printDictionary(**argument):\n",
    "    for key in argument:\n",
    "        print(key + \" : \" + argument[key])\n",
    "\n",
    "printDictionary(Country='Bangladesh',Province='Pakistan',City='Afgan')\n",
    "    "
   ]
  },
  {
   "cell_type": "markdown",
   "metadata": {},
   "source": [
    "EXCEPTION HANDLEING"
   ]
  },
  {
   "cell_type": "code",
   "execution_count": 19,
   "metadata": {},
   "outputs": [
    {
     "name": "stdout",
     "output_type": "stream",
     "text": [
      "Result: 11.0\n"
     ]
    }
   ],
   "source": [
    "# 1. Basic try-except\n",
    "try:\n",
    "    num1 = int(input(\"Enter the first number: \"))\n",
    "    num2 = int(input(\"Enter the second number: \"))\n",
    "\n",
    "    result = num1 / num2\n",
    "    print(\"Result:\", result)\n",
    "\n",
    "except ZeroDivisionError:\n",
    "    print(\"Error: Cannot divide by zero.\")\n",
    "\n",
    "except ValueError:\n",
    "    print(\"Error: Invalid input. Please enter numbers only.\")\n",
    "\n"
   ]
  },
  {
   "cell_type": "code",
   "execution_count": 22,
   "metadata": {},
   "outputs": [
    {
     "name": "stdout",
     "output_type": "stream",
     "text": [
      "Something went wrong\n"
     ]
    }
   ],
   "source": [
    "a = 1\n",
    "\n",
    "try:\n",
    "    b =(input(\"Please enter a number to divide a\"))\n",
    "    a = a/b\n",
    "except ZeroDivisionError:\n",
    "    print(\"The number you provided cant divide 1 because it is 0\")\n",
    "except ValueError:\n",
    "    print(\"You did not provide a number\")\n",
    "except:\n",
    "    print(\"Something went wrong\")\n",
    "else:\n",
    "    print(\"success a=\",a)"
   ]
  },
  {
   "cell_type": "code",
   "execution_count": 24,
   "metadata": {},
   "outputs": [
    {
     "name": "stdout",
     "output_type": "stream",
     "text": [
      "Division successful! Result: 0.0009968996421130284\n",
      "Execution complete.\n"
     ]
    }
   ],
   "source": [
    "try:\n",
    "    num1 = int(input(\"Enter the first number: \"))\n",
    "    num2 = int(input(\"Enter the second number: \"))\n",
    "    \n",
    "    result = num1 / num2\n",
    "\n",
    "except ZeroDivisionError:\n",
    "    print(\"Error: Cannot divide by zero.\")\n",
    "\n",
    "except ValueError:\n",
    "    print(\"Error: Invalid input. Please enter numbers only.\")\n",
    "\n",
    "else:\n",
    "    print(\"Division successful! Result:\", result)\n",
    "\n",
    "finally:\n",
    "    print(\"Execution complete.\")\n"
   ]
  }
 ],
 "metadata": {
  "kernelspec": {
   "display_name": "Python 3",
   "language": "python",
   "name": "python3"
  },
  "language_info": {
   "codemirror_mode": {
    "name": "ipython",
    "version": 3
   },
   "file_extension": ".py",
   "mimetype": "text/x-python",
   "name": "python",
   "nbconvert_exporter": "python",
   "pygments_lexer": "ipython3",
   "version": "3.10.12"
  }
 },
 "nbformat": 4,
 "nbformat_minor": 2
}
