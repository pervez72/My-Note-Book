{
 "cells": [
  {
   "cell_type": "code",
   "execution_count": 2,
   "id": "0bf19b18",
   "metadata": {},
   "outputs": [],
   "source": [
    "import numpy as np\n",
    "import matplotlib.pyplot as plt\n",
    "\n",
    "# ডানদিকে স্কিউড ডেটাসেট তৈরি\n",
    "data = np.random.exponential(scale=2.0, size=1000)\n",
    "\n",
    "# মূল ডেটা প্লট\n",
    "plt.figure(figsize=(12, 5))\n",
    "\n",
    "plt.subplot(1, 2, 1)\n",
    "plt.hist(data, bins=30, edgecolor='black')\n",
    "plt.title(\"মূল ডেটা (ডানদিকে স্কিউড)\")\n",
    "plt.xlabel(\"মান\")\n",
    "plt.ylabel(\"ফ্রিকোয়েন্সি\")\n",
    "\n",
    "# লগ ট্রান্সফরমেশন প্রয়োগ\n",
    "data_log_transformed = np.log(data + 1)  # log(0) এড়াতে 1 যোগ করা হয়েছে\n",
    "\n",
    "# ট্রান্সফর্মড ডেটা প্লট\n",
    "plt.subplot(1, 2, 2)\n",
    "plt.hist(data_log_transformed, bins=30, edgecolor='black')\n",
    "plt.title(\"লগ ট্রান্সফর্মড ডেটা\")\n",
    "plt.xlabel(\"মান\")\n",
    "plt.ylabel(\"ফ্রিকোয়েন্সি\")\n",
    "\n",
    "plt.tight_layout()\n",
    "plt.show()import pandas as pd "
   ]
  },
  {
   "cell_type": "code",
   "execution_count": null,
   "id": "6188547a",
   "metadata": {},
   "outputs": [],
   "source": []
  },
  {
   "cell_type": "code",
   "execution_count": null,
   "id": "250f45f8",
   "metadata": {},
   "outputs": [],
   "source": []
  },
  {
   "cell_type": "code",
   "execution_count": null,
   "id": "0c554a2c",
   "metadata": {},
   "outputs": [],
   "source": [
    "    "
   ]
  }
 ],
 "metadata": {
  "kernelspec": {
   "display_name": "Python 3 (ipykernel)",
   "language": "python",
   "name": "python3"
  },
  "language_info": {
   "codemirror_mode": {
    "name": "ipython",
    "version": 3
   },
   "file_extension": ".py",
   "mimetype": "text/x-python",
   "name": "python",
   "nbconvert_exporter": "python",
   "pygments_lexer": "ipython3",
   "version": "3.12.3"
  }
 },
 "nbformat": 4,
 "nbformat_minor": 5
}
