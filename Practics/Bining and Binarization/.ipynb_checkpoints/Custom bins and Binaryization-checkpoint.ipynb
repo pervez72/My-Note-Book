{
 "cells": [
  {
   "cell_type": "code",
   "execution_count": 10,
   "id": "d119c8f6",
   "metadata": {},
   "outputs": [],
   "source": [
    "import pandas as pd \n",
    "import numpy as np\n"
   ]
  },
  {
   "cell_type": "code",
   "execution_count": 13,
   "id": "3ab86c88",
   "metadata": {},
   "outputs": [
    {
     "name": "stdout",
     "output_type": "stream",
     "text": [
      "   Age AgeGroup\n",
      "0    5    Young\n",
      "1   10    Young\n",
      "2   15    Young\n",
      "3   20    Young\n",
      "4   25    Adult\n",
      "5   30    Adult\n",
      "6   35    Adult\n",
      "7   40    Adult\n",
      "8   45   Senior\n",
      "9   50   Senior\n"
     ]
    }
   ],
   "source": [
    "import pandas as pd\n",
    "\n",
    "# ডেটা তৈরি\n",
    "data = {'Age': [5, 10, 15, 20, 25, 30, 35, 40, 45, 50]}\n",
    "df = pd.DataFrame(data)\n",
    "\n",
    "# বাইনিং\n",
    "bins = [0, 20, 40, 50]\n",
    "labels = ['Young', 'Adult', 'Senior']\n",
    "df['AgeGroup'] = pd.cut(df['Age'], bins=bins, labels=labels)\n",
    "\n",
    "print(df)"
   ]
  },
  {
   "cell_type": "code",
   "execution_count": 15,
   "id": "1995f3b1",
   "metadata": {},
   "outputs": [
    {
     "name": "stdout",
     "output_type": "stream",
     "text": [
      "   Age AgeGroup\n",
      "0    5    Young\n",
      "1   10    Young\n",
      "2   15    Young\n",
      "3   20    Young\n",
      "4   25    Adult\n",
      "5   30    Adult\n",
      "6   35    Adult\n",
      "7   40    Adult\n",
      "8   45   Senior\n",
      "9   50   Senior\n"
     ]
    }
   ],
   "source": [
    "# Data Create\n",
    "data={'Age':[5, 10, 15, 20, 25, 30, 35, 40, 45, 50]}\n",
    "df=pd.DataFrame(data)\n",
    "\n",
    "# bining \n",
    "bins=[0,20,40,60]\n",
    "labels=['Young','Adult','Senior']\n",
    "df['AgeGroup']= pd.cut(df['Age'],bins=bins,labels=labels)\n",
    "print(df)"
   ]
  },
  {
   "cell_type": "code",
   "execution_count": 8,
   "id": "73206275",
   "metadata": {},
   "outputs": [
    {
     "data": {
      "text/html": [
       "<div>\n",
       "<style scoped>\n",
       "    .dataframe tbody tr th:only-of-type {\n",
       "        vertical-align: middle;\n",
       "    }\n",
       "\n",
       "    .dataframe tbody tr th {\n",
       "        vertical-align: top;\n",
       "    }\n",
       "\n",
       "    .dataframe thead th {\n",
       "        text-align: right;\n",
       "    }\n",
       "</style>\n",
       "<table border=\"1\" class=\"dataframe\">\n",
       "  <thead>\n",
       "    <tr style=\"text-align: right;\">\n",
       "      <th></th>\n",
       "      <th>Age</th>\n",
       "    </tr>\n",
       "  </thead>\n",
       "  <tbody>\n",
       "    <tr>\n",
       "      <th>0</th>\n",
       "      <td>5</td>\n",
       "    </tr>\n",
       "    <tr>\n",
       "      <th>1</th>\n",
       "      <td>10</td>\n",
       "    </tr>\n",
       "    <tr>\n",
       "      <th>2</th>\n",
       "      <td>15</td>\n",
       "    </tr>\n",
       "    <tr>\n",
       "      <th>3</th>\n",
       "      <td>20</td>\n",
       "    </tr>\n",
       "    <tr>\n",
       "      <th>4</th>\n",
       "      <td>25</td>\n",
       "    </tr>\n",
       "    <tr>\n",
       "      <th>5</th>\n",
       "      <td>30</td>\n",
       "    </tr>\n",
       "    <tr>\n",
       "      <th>6</th>\n",
       "      <td>35</td>\n",
       "    </tr>\n",
       "    <tr>\n",
       "      <th>7</th>\n",
       "      <td>40</td>\n",
       "    </tr>\n",
       "    <tr>\n",
       "      <th>8</th>\n",
       "      <td>45</td>\n",
       "    </tr>\n",
       "    <tr>\n",
       "      <th>9</th>\n",
       "      <td>50</td>\n",
       "    </tr>\n",
       "  </tbody>\n",
       "</table>\n",
       "</div>"
      ],
      "text/plain": [
       "   Age\n",
       "0    5\n",
       "1   10\n",
       "2   15\n",
       "3   20\n",
       "4   25\n",
       "5   30\n",
       "6   35\n",
       "7   40\n",
       "8   45\n",
       "9   50"
      ]
     },
     "execution_count": 8,
     "metadata": {},
     "output_type": "execute_result"
    }
   ],
   "source": [
    "df"
   ]
  }
 ],
 "metadata": {
  "kernelspec": {
   "display_name": "Python 3 (ipykernel)",
   "language": "python",
   "name": "python3"
  },
  "language_info": {
   "codemirror_mode": {
    "name": "ipython",
    "version": 3
   },
   "file_extension": ".py",
   "mimetype": "text/x-python",
   "name": "python",
   "nbconvert_exporter": "python",
   "pygments_lexer": "ipython3",
   "version": "3.12.3"
  }
 },
 "nbformat": 4,
 "nbformat_minor": 5
}
