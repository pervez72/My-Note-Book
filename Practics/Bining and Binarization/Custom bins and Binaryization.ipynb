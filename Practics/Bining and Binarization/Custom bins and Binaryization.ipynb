{
 "cells": [
  {
   "cell_type": "code",
   "execution_count": 10,
   "id": "d119c8f6",
   "metadata": {},
   "outputs": [],
   "source": [
    "import pandas as pd \n",
    "import numpy as np\n"
   ]
  },
  {
   "cell_type": "code",
   "execution_count": 16,
   "id": "3ab86c88",
   "metadata": {},
   "outputs": [],
   "source": [
    "# Bining "
   ]
  },
  {
   "cell_type": "code",
   "execution_count": 15,
   "id": "1995f3b1",
   "metadata": {},
   "outputs": [
    {
     "name": "stdout",
     "output_type": "stream",
     "text": [
      "   Age AgeGroup\n",
      "0    5    Young\n",
      "1   10    Young\n",
      "2   15    Young\n",
      "3   20    Young\n",
      "4   25    Adult\n",
      "5   30    Adult\n",
      "6   35    Adult\n",
      "7   40    Adult\n",
      "8   45   Senior\n",
      "9   50   Senior\n"
     ]
    }
   ],
   "source": [
    "# Data Create\n",
    "data={'Age':[5, 10, 15, 20, 25, 30, 35, 40, 45, 50]}\n",
    "df=pd.DataFrame(data)\n",
    "\n",
    "# bining \n",
    "bins=[0,20,40,60]\n",
    "labels=['Young','Adult','Senior']\n",
    "df['AgeGroup']= pd.cut(df['Age'],bins=bins,labels=labels)\n",
    "print(df)"
   ]
  },
  {
   "cell_type": "code",
   "execution_count": 18,
   "id": "73206275",
   "metadata": {},
   "outputs": [],
   "source": [
    "# Binizration"
   ]
  },
  {
   "cell_type": "code",
   "execution_count": 23,
   "id": "5dad6682",
   "metadata": {},
   "outputs": [
    {
     "data": {
      "text/html": [
       "<div>\n",
       "<style scoped>\n",
       "    .dataframe tbody tr th:only-of-type {\n",
       "        vertical-align: middle;\n",
       "    }\n",
       "\n",
       "    .dataframe tbody tr th {\n",
       "        vertical-align: top;\n",
       "    }\n",
       "\n",
       "    .dataframe thead th {\n",
       "        text-align: right;\n",
       "    }\n",
       "</style>\n",
       "<table border=\"1\" class=\"dataframe\">\n",
       "  <thead>\n",
       "    <tr style=\"text-align: right;\">\n",
       "      <th></th>\n",
       "      <th>random data</th>\n",
       "    </tr>\n",
       "  </thead>\n",
       "  <tbody>\n",
       "    <tr>\n",
       "      <th>0</th>\n",
       "      <td>2</td>\n",
       "    </tr>\n",
       "    <tr>\n",
       "      <th>1</th>\n",
       "      <td>32</td>\n",
       "    </tr>\n",
       "    <tr>\n",
       "      <th>2</th>\n",
       "      <td>3</td>\n",
       "    </tr>\n",
       "    <tr>\n",
       "      <th>3</th>\n",
       "      <td>2</td>\n",
       "    </tr>\n",
       "    <tr>\n",
       "      <th>4</th>\n",
       "      <td>3</td>\n",
       "    </tr>\n",
       "    <tr>\n",
       "      <th>5</th>\n",
       "      <td>2</td>\n",
       "    </tr>\n",
       "  </tbody>\n",
       "</table>\n",
       "</div>"
      ],
      "text/plain": [
       "   random data\n",
       "0            2\n",
       "1           32\n",
       "2            3\n",
       "3            2\n",
       "4            3\n",
       "5            2"
      ]
     },
     "execution_count": 23,
     "metadata": {},
     "output_type": "execute_result"
    }
   ],
   "source": [
    "from sklearn.preprocessing import Binarizer\n",
    "\n",
    "data=[2,32,3,2,3,2]\n",
    "df=pd.DataFrame({'random data':data})\n",
    "\n",
    "biz=Binarizer(threshold=5)\n"
   ]
  },
  {
   "cell_type": "code",
   "execution_count": null,
   "id": "c77431b1",
   "metadata": {},
   "outputs": [],
   "source": []
  },
  {
   "cell_type": "code",
   "execution_count": null,
   "id": "c1cf3a69",
   "metadata": {},
   "outputs": [],
   "source": []
  }
 ],
 "metadata": {
  "kernelspec": {
   "display_name": "Python 3 (ipykernel)",
   "language": "python",
   "name": "python3"
  },
  "language_info": {
   "codemirror_mode": {
    "name": "ipython",
    "version": 3
   },
   "file_extension": ".py",
   "mimetype": "text/x-python",
   "name": "python",
   "nbconvert_exporter": "python",
   "pygments_lexer": "ipython3",
   "version": "3.12.3"
  }
 },
 "nbformat": 4,
 "nbformat_minor": 5
}
