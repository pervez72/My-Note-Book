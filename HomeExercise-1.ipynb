{
 "cells": [
  {
   "cell_type": "markdown",
   "metadata": {},
   "source": [
    "# Home Exercise 1"
   ]
  },
  {
   "cell_type": "markdown",
   "metadata": {},
   "source": [
    "### String Operations\n",
    "Given a string \"Hello World\", reverse the string using slicing."
   ]
  },
  {
   "cell_type": "code",
   "execution_count": null,
   "metadata": {},
   "outputs": [],
   "source": []
  },
  {
   "cell_type": "markdown",
   "metadata": {},
   "source": [
    "### String Slicing\n",
    "Given a string, extract a substring using slicing. For example, extract the word \"quick\" from the sentence, \"The quick brown fox jumps over the lazy dog\""
   ]
  },
  {
   "cell_type": "code",
   "execution_count": null,
   "metadata": {},
   "outputs": [],
   "source": []
  },
  {
   "cell_type": "markdown",
   "metadata": {},
   "source": [
    "### String Split with a Specific Delimiter\n",
    "Split a date string into day, month, and year. (e,g., date =\"10-18-2024')"
   ]
  },
  {
   "cell_type": "code",
   "execution_count": null,
   "metadata": {},
   "outputs": [],
   "source": []
  },
  {
   "cell_type": "markdown",
   "metadata": {},
   "source": [
    "### Regular Expressions\n",
    "Checks if a given email address is valid (contains \"@\" and \".com\" or \".org\")."
   ]
  },
  {
   "cell_type": "code",
   "execution_count": null,
   "metadata": {},
   "outputs": [],
   "source": []
  },
  {
   "cell_type": "markdown",
   "metadata": {},
   "source": [
    "### String Replace\n",
    "Write a program that replaces all occurrences of the word \"apple\" with \"orange\" in a given string, \"I like apple. Apple is sweet.\""
   ]
  },
  {
   "cell_type": "markdown",
   "metadata": {},
   "source": [
    "### Dictionaries\n",
    "Write a program that stores the names and ages of 3 people in a dictionary and prints the name of the person with the highest age."
   ]
  },
  {
   "cell_type": "code",
   "execution_count": null,
   "metadata": {},
   "outputs": [],
   "source": []
  },
  {
   "cell_type": "markdown",
   "metadata": {},
   "source": [
    "### Simple Student Attendance System\n",
    "#### Problem:\n",
    "Create a system that tracks attendance using a dictionary. The dictionary should store student names as keys and a list of strings as values, where each string is the date of their attendance. Perform the following tasks:\n",
    "\n",
    "* Add a new attendance record for a student.\n",
    "* Remove a student from the system.\n",
    "* Print the attendance of all students.\n",
    "\n",
    "Sample Input:\n",
    "\n",
    "attendance = {\n",
    "    \"Alice\": [\"2023-10-01\", \"2023-10-02\"],\n",
    "    \"Bob\": [\"2023-10-01\"]\n",
    "}\n",
    "\n",
    "* Add: Attendance for \"Alice\" on \"2023-10-03\"\n",
    "* Remove: \"Bob\""
   ]
  },
  {
   "cell_type": "code",
   "execution_count": null,
   "metadata": {},
   "outputs": [],
   "source": []
  },
  {
   "cell_type": "markdown",
   "metadata": {},
   "source": [
    "### Simple Phone Book Directory\n",
    "#### Problem:\n",
    "Create a phone book using a dictionary where names are the keys and phone numbers are the values. Perform the following tasks:\n",
    "\n",
    "* Add a new contact.\n",
    "* Remove a contact.\n",
    "* Update a contact's phone number.\n",
    "* Print the entire phone book.\n",
    "\n",
    "Sample Input:\n",
    "\n",
    "phone_book = {\"John\": \"123-4567\", \"Jane\": \"987-6543\"}\n",
    "\n",
    "* Add: \"Mike\" with phone number \"555-1212\"\n",
    "* Remove: \"Jane\"\n",
    "* Update: \"John\" to \"111-2222\""
   ]
  },
  {
   "cell_type": "code",
   "execution_count": null,
   "metadata": {},
   "outputs": [],
   "source": []
  }
 ],
 "metadata": {
  "kernelspec": {
   "display_name": "base",
   "language": "python",
   "name": "python3"
  },
  "language_info": {
   "name": "python",
   "version": "3.12.4"
  }
 },
 "nbformat": 4,
 "nbformat_minor": 2
}
