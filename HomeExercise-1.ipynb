{
 "cells": [
  {
   "cell_type": "markdown",
   "metadata": {},
   "source": [
    "# Home Exercise 1"
   ]
  },
  {
   "cell_type": "markdown",
   "metadata": {},
   "source": [
    "### String Operations\n",
    "Given a string \"Hello World\", reverse the string using slicing."
   ]
  },
  {
   "cell_type": "code",
   "execution_count": 21,
   "metadata": {},
   "outputs": [
    {
     "name": "stdout",
     "output_type": "stream",
     "text": [
      "dlroW olleH\n"
     ]
    }
   ],
   "source": [
    "string = \"Hello World\"\n",
    "reversed_string = string[::-1]\n",
    "print(reversed_string)"
   ]
  },
  {
   "cell_type": "markdown",
   "metadata": {},
   "source": [
    "### String Slicing\n",
    "Given a string, extract a substring using slicing. For example, extract the word \"quick\" from the sentence, \"The quick brown fox jumps over the lazy dog\""
   ]
  },
  {
   "cell_type": "code",
   "execution_count": 22,
   "metadata": {},
   "outputs": [
    {
     "name": "stdout",
     "output_type": "stream",
     "text": [
      "quick\n"
     ]
    }
   ],
   "source": [
    "s= \"The quick brown fox jumps over the lazy dog\"\n",
    "substring=s[4:9]\n",
    "print(substring)"
   ]
  },
  {
   "cell_type": "markdown",
   "metadata": {},
   "source": [
    "### String Split with a Specific Delimiter\n",
    "Split a date string into day, month, and year. (e,g., date =\"10-18-2024')"
   ]
  },
  {
   "cell_type": "code",
   "execution_count": 23,
   "metadata": {},
   "outputs": [
    {
     "name": "stdout",
     "output_type": "stream",
     "text": [
      "Day: 10\n",
      "Month: 18\n",
      "Year: 2024\n"
     ]
    }
   ],
   "source": [
    "date=\"10-18-2024\"\n",
    "day, month,year=date.split('-')\n",
    "print(\"Day:\", day)\n",
    "print(\"Month:\", month)\n",
    "print(\"Year:\", year)\n"
   ]
  },
  {
   "cell_type": "markdown",
   "metadata": {},
   "source": [
    "### Regular Expressions\n",
    "Checks if a given email address is valid (contains \"@\" and \".com\" or \".org\")."
   ]
  },
  {
   "cell_type": "code",
   "execution_count": 24,
   "metadata": {},
   "outputs": [
    {
     "name": "stdout",
     "output_type": "stream",
     "text": [
      "True\n",
      "False\n",
      "True\n"
     ]
    }
   ],
   "source": [
    "def valid_email(email):\n",
    "    if \"@\" in email and (email.endswith(\".com\") or email.endswith(\".org\")):\n",
    "        return True\n",
    "    return False\n",
    "\n",
    "# Test examples\n",
    "email1 = \"user@example.com\"\n",
    "email2 = \"invalid-email@domain\"\n",
    "email3 = \"user@domain.org\"\n",
    "\n",
    "print(valid_email(email1)) \n",
    "print(valid_email(email2))  \n",
    "print(valid_email(email3)) "
   ]
  },
  {
   "cell_type": "markdown",
   "metadata": {},
   "source": [
    "### String Replace\n",
    "Write a program that replaces all occurrences of the word \"apple\" with \"orange\" in a given string, \"I like apple. Apple is sweet.\""
   ]
  },
  {
   "cell_type": "code",
   "execution_count": 25,
   "metadata": {},
   "outputs": [
    {
     "name": "stdout",
     "output_type": "stream",
     "text": [
      "I like orange. Orange is sweet.\n"
     ]
    }
   ],
   "source": [
    "def replacefunc(text):\n",
    "    result = text.replace(\"apple\", \"orange\").replace(\"Apple\", \"Orange\")\n",
    "    return result\n",
    "\n",
    "# Input string\n",
    "text = \"I like apple. Apple is sweet.\"\n",
    "\n",
    "# Replace \"apple\" with \"orange\"\n",
    "reptext=replacefunc(text)\n",
    "print(reptext)"
   ]
  },
  {
   "cell_type": "markdown",
   "metadata": {},
   "source": [
    "### Dictionaries\n",
    "Write a program that stores the names and ages of 3 people in a dictionary and prints the name of the person with the highest age."
   ]
  },
  {
   "cell_type": "code",
   "execution_count": 26,
   "metadata": {},
   "outputs": [
    {
     "name": "stdout",
     "output_type": "stream",
     "text": [
      "The oldest person is: Jhan\n"
     ]
    }
   ],
   "source": [
    "people = {\n",
    "    \"Khan\": 25,\n",
    "    \"Jhan\": 30,\n",
    "    \"Pervez\": 22\n",
    "}\n",
    "\n",
    "oldest_person = \"\"\n",
    "highest_age = 0\n",
    "\n",
    "for name in people:\n",
    "    age = people[name]\n",
    "    if age > highest_age:\n",
    "        highest_age = age\n",
    "        oldest_person = name\n",
    "print(\"The oldest person is:\", oldest_person)\n"
   ]
  },
  {
   "cell_type": "markdown",
   "metadata": {},
   "source": [
    "### Simple Student Attendance System\n",
    "#### Problem:\n",
    "Create a system that tracks attendance using a dictionary. The dictionary should store student names as keys and a list of strings as values, where each string is the date of their attendance. Perform the following tasks:\n",
    "\n",
    "* Add a new attendance record for a student.\n",
    "* Remove a student from the system.\n",
    "* Print the attendance of all students.\n",
    "\n",
    "Sample Input:\n",
    "\n",
    "attendance = {\n",
    "    \"Alice\": [\"2023-10-01\", \"2023-10-02\"],\n",
    "    \"Bob\": [\"2023-10-01\"]\n",
    "}\n",
    "\n",
    "* Add: Attendance for \"Alice\" on \"2023-10-03\"\n",
    "* Remove: \"Bob\""
   ]
  },
  {
   "cell_type": "code",
   "execution_count": 27,
   "metadata": {},
   "outputs": [],
   "source": [
    "#Sorry sir! I Don't understood."
   ]
  },
  {
   "cell_type": "markdown",
   "metadata": {},
   "source": [
    "### Simple Phone Book Directory\n",
    "#### Problem:\n",
    "Create a phone book using a dictionary where names are the keys and phone numbers are the values. Perform the following tasks:\n",
    "\n",
    "* Add a new contact.\n",
    "* Remove a contact.\n",
    "* Update a contact's phone number.\n",
    "* Print the entire phone book.\n",
    "\n",
    "Sample Input:\n",
    "\n",
    "phone_book = {\"John\": \"123-4567\", \"Jane\": \"987-6543\"}\n",
    "\n",
    "* Add: \"Mike\" with phone number \"555-1212\"\n",
    "* Remove: \"Jane\"\n",
    "* Update: \"John\" to \"111-2222\""
   ]
  },
  {
   "cell_type": "code",
   "execution_count": 28,
   "metadata": {},
   "outputs": [
    {
     "name": "stdout",
     "output_type": "stream",
     "text": [
      "John: 123-4567\n",
      "Jane: 987-6543\n",
      "Hasan: 0173255085\n"
     ]
    }
   ],
   "source": [
    "phone_book = {\"John\": \"123-4567\", \"Jane\": \"987-6543\"}\n",
    "\n",
    "def add_number(name, phone_number):\n",
    "    phone_book[name] = phone_number #Add a new contact to the phone book\n",
    "def remove_number(name): #Remove a contact from the phone book.\n",
    "    if name in phone_book:\n",
    "        del phone_book[name]\n",
    "\n",
    "def update_contact(name, new_phone_number): #Update a contact's phone number\n",
    "    if name in phone_book:\n",
    "        phone_book[name] = new_phone_number\n",
    "\n",
    "\n",
    "#Display function\n",
    "def print_phone_book():\n",
    "    for name, phone_number in phone_book.items():\n",
    "        print(f\"{name}: {phone_number}\")\n",
    "\n",
    "# Input\n",
    "add_number(\"Hasan\",\"0173255085\")  \n",
    "remove_number(\"Khan\")            \n",
    "update_contact(f\"Pervez\", \"01866648565\") \n",
    "\n",
    "# Print total phone book\n",
    "print_phone_book()"
   ]
  }
 ],
 "metadata": {
  "kernelspec": {
   "display_name": "Python 3",
   "language": "python",
   "name": "python3"
  },
  "language_info": {
   "codemirror_mode": {
    "name": "ipython",
    "version": 3
   },
   "file_extension": ".py",
   "mimetype": "text/x-python",
   "name": "python",
   "nbconvert_exporter": "python",
   "pygments_lexer": "ipython3",
   "version": "3.10.12"
  }
 },
 "nbformat": 4,
 "nbformat_minor": 2
}
